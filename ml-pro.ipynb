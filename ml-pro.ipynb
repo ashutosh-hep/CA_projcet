{
 "cells": [
  {
   "cell_type": "code",
   "execution_count": 60,
   "metadata": {
    "_cell_guid": "b1076dfc-b9ad-4769-8c92-a6c4dae69d19",
    "_uuid": "8f2839f25d086af736a60e9eeb907d3b93b6e0e5"
   },
   "outputs": [],
   "source": [
    "import pandas as pd\n",
    "import numpy as np\n",
    "import matplotlib.pyplot as plt  \n",
    "from sklearn.model_selection import train_test_split \n",
    "from sklearn.model_selection import cross_val_score\n",
    "from sklearn import metrics\n",
    "from sklearn.model_selection import GridSearchCV\n",
    "from sklearn.ensemble import RandomForestClassifier\n",
    "from sklearn.neighbors import KNeighborsClassifier\n",
    "from sklearn.linear_model import LogisticRegression\n",
    "import warnings\n",
    "warnings.filterwarnings('ignore')"
   ]
  },
  {
   "cell_type": "code",
   "execution_count": 61,
   "metadata": {},
   "outputs": [
    {
     "data": {
      "text/html": [
       "<div>\n",
       "<style scoped>\n",
       "    .dataframe tbody tr th:only-of-type {\n",
       "        vertical-align: middle;\n",
       "    }\n",
       "\n",
       "    .dataframe tbody tr th {\n",
       "        vertical-align: top;\n",
       "    }\n",
       "\n",
       "    .dataframe thead th {\n",
       "        text-align: right;\n",
       "    }\n",
       "</style>\n",
       "<table border=\"1\" class=\"dataframe\">\n",
       "  <thead>\n",
       "    <tr style=\"text-align: right;\">\n",
       "      <th></th>\n",
       "      <th>age</th>\n",
       "      <th>workclass</th>\n",
       "      <th>fnlwgt</th>\n",
       "      <th>education</th>\n",
       "      <th>education.num</th>\n",
       "      <th>marital.status</th>\n",
       "      <th>occupation</th>\n",
       "      <th>relationship</th>\n",
       "      <th>race</th>\n",
       "      <th>sex</th>\n",
       "      <th>capital.gain</th>\n",
       "      <th>capital.loss</th>\n",
       "      <th>hours.per.week</th>\n",
       "      <th>native.country</th>\n",
       "      <th>income</th>\n",
       "    </tr>\n",
       "  </thead>\n",
       "  <tbody>\n",
       "    <tr>\n",
       "      <th>0</th>\n",
       "      <td>90</td>\n",
       "      <td>?</td>\n",
       "      <td>77053</td>\n",
       "      <td>HS-grad</td>\n",
       "      <td>9</td>\n",
       "      <td>Widowed</td>\n",
       "      <td>?</td>\n",
       "      <td>Not-in-family</td>\n",
       "      <td>White</td>\n",
       "      <td>Female</td>\n",
       "      <td>0</td>\n",
       "      <td>4356</td>\n",
       "      <td>40</td>\n",
       "      <td>United-States</td>\n",
       "      <td>&lt;=50K</td>\n",
       "    </tr>\n",
       "    <tr>\n",
       "      <th>1</th>\n",
       "      <td>82</td>\n",
       "      <td>Private</td>\n",
       "      <td>132870</td>\n",
       "      <td>HS-grad</td>\n",
       "      <td>9</td>\n",
       "      <td>Widowed</td>\n",
       "      <td>Exec-managerial</td>\n",
       "      <td>Not-in-family</td>\n",
       "      <td>White</td>\n",
       "      <td>Female</td>\n",
       "      <td>0</td>\n",
       "      <td>4356</td>\n",
       "      <td>18</td>\n",
       "      <td>United-States</td>\n",
       "      <td>&lt;=50K</td>\n",
       "    </tr>\n",
       "    <tr>\n",
       "      <th>2</th>\n",
       "      <td>66</td>\n",
       "      <td>?</td>\n",
       "      <td>186061</td>\n",
       "      <td>Some-college</td>\n",
       "      <td>10</td>\n",
       "      <td>Widowed</td>\n",
       "      <td>?</td>\n",
       "      <td>Unmarried</td>\n",
       "      <td>Black</td>\n",
       "      <td>Female</td>\n",
       "      <td>0</td>\n",
       "      <td>4356</td>\n",
       "      <td>40</td>\n",
       "      <td>United-States</td>\n",
       "      <td>&lt;=50K</td>\n",
       "    </tr>\n",
       "    <tr>\n",
       "      <th>3</th>\n",
       "      <td>54</td>\n",
       "      <td>Private</td>\n",
       "      <td>140359</td>\n",
       "      <td>7th-8th</td>\n",
       "      <td>4</td>\n",
       "      <td>Divorced</td>\n",
       "      <td>Machine-op-inspct</td>\n",
       "      <td>Unmarried</td>\n",
       "      <td>White</td>\n",
       "      <td>Female</td>\n",
       "      <td>0</td>\n",
       "      <td>3900</td>\n",
       "      <td>40</td>\n",
       "      <td>United-States</td>\n",
       "      <td>&lt;=50K</td>\n",
       "    </tr>\n",
       "    <tr>\n",
       "      <th>4</th>\n",
       "      <td>41</td>\n",
       "      <td>Private</td>\n",
       "      <td>264663</td>\n",
       "      <td>Some-college</td>\n",
       "      <td>10</td>\n",
       "      <td>Separated</td>\n",
       "      <td>Prof-specialty</td>\n",
       "      <td>Own-child</td>\n",
       "      <td>White</td>\n",
       "      <td>Female</td>\n",
       "      <td>0</td>\n",
       "      <td>3900</td>\n",
       "      <td>40</td>\n",
       "      <td>United-States</td>\n",
       "      <td>&lt;=50K</td>\n",
       "    </tr>\n",
       "  </tbody>\n",
       "</table>\n",
       "</div>"
      ],
      "text/plain": [
       "   age workclass  fnlwgt     education  education.num marital.status  \\\n",
       "0   90         ?   77053       HS-grad              9        Widowed   \n",
       "1   82   Private  132870       HS-grad              9        Widowed   \n",
       "2   66         ?  186061  Some-college             10        Widowed   \n",
       "3   54   Private  140359       7th-8th              4       Divorced   \n",
       "4   41   Private  264663  Some-college             10      Separated   \n",
       "\n",
       "          occupation   relationship   race     sex  capital.gain  \\\n",
       "0                  ?  Not-in-family  White  Female             0   \n",
       "1    Exec-managerial  Not-in-family  White  Female             0   \n",
       "2                  ?      Unmarried  Black  Female             0   \n",
       "3  Machine-op-inspct      Unmarried  White  Female             0   \n",
       "4     Prof-specialty      Own-child  White  Female             0   \n",
       "\n",
       "   capital.loss  hours.per.week native.country income  \n",
       "0          4356              40  United-States  <=50K  \n",
       "1          4356              18  United-States  <=50K  \n",
       "2          4356              40  United-States  <=50K  \n",
       "3          3900              40  United-States  <=50K  \n",
       "4          3900              40  United-States  <=50K  "
      ]
     },
     "execution_count": 61,
     "metadata": {},
     "output_type": "execute_result"
    }
   ],
   "source": [
    "df = pd.read_csv('adult.csv')\n",
    "df.head()"
   ]
  },
  {
   "cell_type": "code",
   "execution_count": 62,
   "metadata": {},
   "outputs": [
    {
     "data": {
      "text/plain": [
       "Index(['age', 'workclass', 'fnlwgt', 'education', 'education.num', 'marital',\n",
       "       'occupation', 'relationship', 'race', 'gender', 'capital gain',\n",
       "       'capital loss', 'hours per week', 'country', 'income'],\n",
       "      dtype='object')"
      ]
     },
     "execution_count": 62,
     "metadata": {},
     "output_type": "execute_result"
    }
   ],
   "source": [
    "#replacing some special character columns names with proper names \n",
    "df.rename(columns={'capital.gain': 'capital gain', 'capital.loss': 'capital loss', 'native.country': 'country','hours.per.week': 'hours per week','marital.status': 'marital','sex':'gender'}, inplace=True)\n",
    "df.columns"
   ]
  },
  {
   "cell_type": "code",
   "execution_count": null,
   "metadata": {},
   "outputs": [],
   "source": []
  },
  {
   "cell_type": "markdown",
   "metadata": {},
   "source": [
    "# #Exploring the data set and making it suitable to be trained.\n"
   ]
  },
  {
   "cell_type": "code",
   "execution_count": 63,
   "metadata": {},
   "outputs": [
    {
     "name": "stdout",
     "output_type": "stream",
     "text": [
      "<class 'pandas.core.frame.DataFrame'>\n",
      "RangeIndex: 32561 entries, 0 to 32560\n",
      "Data columns (total 15 columns):\n",
      " #   Column          Non-Null Count  Dtype \n",
      "---  ------          --------------  ----- \n",
      " 0   age             32561 non-null  int64 \n",
      " 1   workclass       32561 non-null  object\n",
      " 2   fnlwgt          32561 non-null  int64 \n",
      " 3   education       32561 non-null  object\n",
      " 4   education.num   32561 non-null  int64 \n",
      " 5   marital         32561 non-null  object\n",
      " 6   occupation      32561 non-null  object\n",
      " 7   relationship    32561 non-null  object\n",
      " 8   race            32561 non-null  object\n",
      " 9   gender          32561 non-null  object\n",
      " 10  capital gain    32561 non-null  int64 \n",
      " 11  capital loss    32561 non-null  int64 \n",
      " 12  hours per week  32561 non-null  int64 \n",
      " 13  country         32561 non-null  object\n",
      " 14  income          32561 non-null  object\n",
      "dtypes: int64(6), object(9)\n",
      "memory usage: 3.7+ MB\n"
     ]
    }
   ],
   "source": [
    "#Checking for null values\n",
    "df.info()"
   ]
  },
  {
   "cell_type": "markdown",
   "metadata": {},
   "source": [
    "There is no null values so i will\n",
    "check for special character"
   ]
  },
  {
   "cell_type": "code",
   "execution_count": 64,
   "metadata": {},
   "outputs": [
    {
     "data": {
      "text/plain": [
       "age                  0\n",
       "workclass         1836\n",
       "fnlwgt               0\n",
       "education            0\n",
       "education.num        0\n",
       "marital              0\n",
       "occupation        1843\n",
       "relationship         0\n",
       "race                 0\n",
       "gender               0\n",
       "capital gain         0\n",
       "capital loss         0\n",
       "hours per week       0\n",
       "country            583\n",
       "income               0\n",
       "dtype: int64"
      ]
     },
     "execution_count": 64,
     "metadata": {},
     "output_type": "execute_result"
    }
   ],
   "source": [
    "#Finding the special characters in the data frame \n",
    "df.isin(['?']).sum(axis=0)"
   ]
  },
  {
   "cell_type": "markdown",
   "metadata": {},
   "source": [
    "Here we are having special characters in 3 columns of the dataset"
   ]
  },
  {
   "cell_type": "code",
   "execution_count": 65,
   "metadata": {},
   "outputs": [],
   "source": [
    "#replacing those values to nan\n",
    "df['country'] = df['country'].replace('?',np.nan)\n",
    "df['workclass'] = df['workclass'].replace('?',np.nan)\n",
    "df['occupation'] = df['occupation'].replace('?',np.nan)"
   ]
  },
  {
   "cell_type": "code",
   "execution_count": 66,
   "metadata": {},
   "outputs": [],
   "source": [
    "#droping the row which contain NaN values\n",
    "df.dropna(how='any',inplace=True)"
   ]
  },
  {
   "cell_type": "markdown",
   "metadata": {},
   "source": [
    "As its categorical Dataset, i need to assign numeric values in it to train the model. Before that we will fecthc uniqe values "
   ]
  },
  {
   "cell_type": "code",
   "execution_count": 67,
   "metadata": {},
   "outputs": [
    {
     "name": "stdout",
     "output_type": "stream",
     "text": [
      "---- age ---\n",
      "36    852\n",
      "31    851\n",
      "33    837\n",
      "34    836\n",
      "35    828\n",
      "     ... \n",
      "82      7\n",
      "83      5\n",
      "88      3\n",
      "85      3\n",
      "86      1\n",
      "Name: age, Length: 72, dtype: int64\n",
      "---- workclass ---\n",
      "Private             22286\n",
      "Self-emp-not-inc     2499\n",
      "Local-gov            2067\n",
      "State-gov            1279\n",
      "Self-emp-inc         1074\n",
      "Federal-gov           943\n",
      "Without-pay            14\n",
      "Name: workclass, dtype: int64\n",
      "---- fnlwgt ---\n",
      "203488     13\n",
      "164190     12\n",
      "121124     12\n",
      "113364     12\n",
      "123011     12\n",
      "           ..\n",
      "1268339     1\n",
      "542265      1\n",
      "312897      1\n",
      "58447       1\n",
      "125489      1\n",
      "Name: fnlwgt, Length: 20263, dtype: int64\n",
      "---- education ---\n",
      "HS-grad         9840\n",
      "Some-college    6678\n",
      "Bachelors       5044\n",
      "Masters         1627\n",
      "Assoc-voc       1307\n",
      "11th            1048\n",
      "Assoc-acdm      1008\n",
      "10th             820\n",
      "7th-8th          557\n",
      "Prof-school      542\n",
      "9th              455\n",
      "12th             377\n",
      "Doctorate        375\n",
      "5th-6th          288\n",
      "1st-4th          151\n",
      "Preschool         45\n",
      "Name: education, dtype: int64\n",
      "---- education.num ---\n",
      "9     9840\n",
      "10    6678\n",
      "13    5044\n",
      "14    1627\n",
      "11    1307\n",
      "7     1048\n",
      "12    1008\n",
      "6      820\n",
      "4      557\n",
      "15     542\n",
      "5      455\n",
      "8      377\n",
      "16     375\n",
      "3      288\n",
      "2      151\n",
      "1       45\n",
      "Name: education.num, dtype: int64\n",
      "---- marital ---\n",
      "Married-civ-spouse       14065\n",
      "Never-married             9726\n",
      "Divorced                  4214\n",
      "Separated                  939\n",
      "Widowed                    827\n",
      "Married-spouse-absent      370\n",
      "Married-AF-spouse           21\n",
      "Name: marital, dtype: int64\n",
      "---- occupation ---\n",
      "Prof-specialty       4038\n",
      "Craft-repair         4030\n",
      "Exec-managerial      3992\n",
      "Adm-clerical         3721\n",
      "Sales                3584\n",
      "Other-service        3212\n",
      "Machine-op-inspct    1966\n",
      "Transport-moving     1572\n",
      "Handlers-cleaners    1350\n",
      "Farming-fishing       989\n",
      "Tech-support          912\n",
      "Protective-serv       644\n",
      "Priv-house-serv       143\n",
      "Armed-Forces            9\n",
      "Name: occupation, dtype: int64\n",
      "---- relationship ---\n",
      "Husband           12463\n",
      "Not-in-family      7726\n",
      "Own-child          4466\n",
      "Unmarried          3212\n",
      "Wife               1406\n",
      "Other-relative      889\n",
      "Name: relationship, dtype: int64\n",
      "---- race ---\n",
      "White                 25933\n",
      "Black                  2817\n",
      "Asian-Pac-Islander      895\n",
      "Amer-Indian-Eskimo      286\n",
      "Other                   231\n",
      "Name: race, dtype: int64\n",
      "---- gender ---\n",
      "Male      20380\n",
      "Female     9782\n",
      "Name: gender, dtype: int64\n",
      "---- capital gain ---\n",
      "0        27624\n",
      "15024      337\n",
      "7688       270\n",
      "7298       240\n",
      "99999      148\n",
      "         ...  \n",
      "401          1\n",
      "22040        1\n",
      "4931         1\n",
      "1455         1\n",
      "1639         1\n",
      "Name: capital gain, Length: 118, dtype: int64\n",
      "---- capital loss ---\n",
      "0       28735\n",
      "1902      194\n",
      "1977      162\n",
      "1887      155\n",
      "1848       50\n",
      "        ...  \n",
      "419         1\n",
      "1411        1\n",
      "1539        1\n",
      "2472        1\n",
      "2467        1\n",
      "Name: capital loss, Length: 90, dtype: int64\n",
      "---- hours per week ---\n",
      "40    14251\n",
      "50     2718\n",
      "45     1753\n",
      "60     1405\n",
      "35     1184\n",
      "      ...  \n",
      "94        1\n",
      "87        1\n",
      "74        1\n",
      "82        1\n",
      "92        1\n",
      "Name: hours per week, Length: 94, dtype: int64\n",
      "---- country ---\n",
      "United-States                 27504\n",
      "Mexico                          610\n",
      "Philippines                     188\n",
      "Germany                         128\n",
      "Puerto-Rico                     109\n",
      "Canada                          107\n",
      "India                           100\n",
      "El-Salvador                     100\n",
      "Cuba                             92\n",
      "England                          86\n",
      "Jamaica                          80\n",
      "South                            71\n",
      "Italy                            68\n",
      "China                            68\n",
      "Dominican-Republic               67\n",
      "Vietnam                          64\n",
      "Guatemala                        63\n",
      "Japan                            59\n",
      "Columbia                         56\n",
      "Poland                           56\n",
      "Iran                             42\n",
      "Haiti                            42\n",
      "Taiwan                           42\n",
      "Portugal                         34\n",
      "Nicaragua                        33\n",
      "Peru                             30\n",
      "Greece                           29\n",
      "France                           27\n",
      "Ecuador                          27\n",
      "Ireland                          24\n",
      "Hong                             19\n",
      "Trinadad&Tobago                  18\n",
      "Cambodia                         18\n",
      "Laos                             17\n",
      "Thailand                         17\n",
      "Yugoslavia                       16\n",
      "Outlying-US(Guam-USVI-etc)       14\n",
      "Hungary                          13\n",
      "Honduras                         12\n",
      "Scotland                         11\n",
      "Holand-Netherlands                1\n",
      "Name: country, dtype: int64\n",
      "---- income ---\n",
      "<=50K    22654\n",
      ">50K      7508\n",
      "Name: income, dtype: int64\n"
     ]
    }
   ],
   "source": [
    "#running a loop of value_counts of each column to find out unique values. \n",
    "for c in df.columns:\n",
    "    print (\"---- %s ---\" % c)\n",
    "    print (df[c].value_counts())"
   ]
  },
  {
   "cell_type": "markdown",
   "metadata": {},
   "source": [
    "After runnig the loop i have details of all the columns with number of unique values. Eventually i will drop some columns which will contain too much unique values."
   ]
  },
  {
   "cell_type": "code",
   "execution_count": 68,
   "metadata": {},
   "outputs": [],
   "source": [
    "df.drop(['education.num','age', 'hours per week', 'fnlwgt', 'capital gain','capital loss', 'country'], axis=1, inplace=True)"
   ]
  },
  {
   "cell_type": "markdown",
   "metadata": {},
   "source": [
    "Now we will map our target. we will set 0 if income is less than or equal to 50k otherwise will assign 1."
   ]
  },
  {
   "cell_type": "code",
   "execution_count": 69,
   "metadata": {},
   "outputs": [
    {
     "data": {
      "text/html": [
       "<div>\n",
       "<style scoped>\n",
       "    .dataframe tbody tr th:only-of-type {\n",
       "        vertical-align: middle;\n",
       "    }\n",
       "\n",
       "    .dataframe tbody tr th {\n",
       "        vertical-align: top;\n",
       "    }\n",
       "\n",
       "    .dataframe thead th {\n",
       "        text-align: right;\n",
       "    }\n",
       "</style>\n",
       "<table border=\"1\" class=\"dataframe\">\n",
       "  <thead>\n",
       "    <tr style=\"text-align: right;\">\n",
       "      <th></th>\n",
       "      <th>workclass</th>\n",
       "      <th>education</th>\n",
       "      <th>marital</th>\n",
       "      <th>occupation</th>\n",
       "      <th>relationship</th>\n",
       "      <th>race</th>\n",
       "      <th>gender</th>\n",
       "      <th>income</th>\n",
       "    </tr>\n",
       "  </thead>\n",
       "  <tbody>\n",
       "    <tr>\n",
       "      <th>1</th>\n",
       "      <td>Private</td>\n",
       "      <td>HS-grad</td>\n",
       "      <td>Widowed</td>\n",
       "      <td>Exec-managerial</td>\n",
       "      <td>Not-in-family</td>\n",
       "      <td>White</td>\n",
       "      <td>Female</td>\n",
       "      <td>0</td>\n",
       "    </tr>\n",
       "    <tr>\n",
       "      <th>3</th>\n",
       "      <td>Private</td>\n",
       "      <td>7th-8th</td>\n",
       "      <td>Divorced</td>\n",
       "      <td>Machine-op-inspct</td>\n",
       "      <td>Unmarried</td>\n",
       "      <td>White</td>\n",
       "      <td>Female</td>\n",
       "      <td>0</td>\n",
       "    </tr>\n",
       "    <tr>\n",
       "      <th>4</th>\n",
       "      <td>Private</td>\n",
       "      <td>Some-college</td>\n",
       "      <td>Separated</td>\n",
       "      <td>Prof-specialty</td>\n",
       "      <td>Own-child</td>\n",
       "      <td>White</td>\n",
       "      <td>Female</td>\n",
       "      <td>0</td>\n",
       "    </tr>\n",
       "    <tr>\n",
       "      <th>5</th>\n",
       "      <td>Private</td>\n",
       "      <td>HS-grad</td>\n",
       "      <td>Divorced</td>\n",
       "      <td>Other-service</td>\n",
       "      <td>Unmarried</td>\n",
       "      <td>White</td>\n",
       "      <td>Female</td>\n",
       "      <td>0</td>\n",
       "    </tr>\n",
       "    <tr>\n",
       "      <th>6</th>\n",
       "      <td>Private</td>\n",
       "      <td>10th</td>\n",
       "      <td>Separated</td>\n",
       "      <td>Adm-clerical</td>\n",
       "      <td>Unmarried</td>\n",
       "      <td>White</td>\n",
       "      <td>Male</td>\n",
       "      <td>0</td>\n",
       "    </tr>\n",
       "    <tr>\n",
       "      <th>...</th>\n",
       "      <td>...</td>\n",
       "      <td>...</td>\n",
       "      <td>...</td>\n",
       "      <td>...</td>\n",
       "      <td>...</td>\n",
       "      <td>...</td>\n",
       "      <td>...</td>\n",
       "      <td>...</td>\n",
       "    </tr>\n",
       "    <tr>\n",
       "      <th>32556</th>\n",
       "      <td>Private</td>\n",
       "      <td>Some-college</td>\n",
       "      <td>Never-married</td>\n",
       "      <td>Protective-serv</td>\n",
       "      <td>Not-in-family</td>\n",
       "      <td>White</td>\n",
       "      <td>Male</td>\n",
       "      <td>0</td>\n",
       "    </tr>\n",
       "    <tr>\n",
       "      <th>32557</th>\n",
       "      <td>Private</td>\n",
       "      <td>Assoc-acdm</td>\n",
       "      <td>Married-civ-spouse</td>\n",
       "      <td>Tech-support</td>\n",
       "      <td>Wife</td>\n",
       "      <td>White</td>\n",
       "      <td>Female</td>\n",
       "      <td>0</td>\n",
       "    </tr>\n",
       "    <tr>\n",
       "      <th>32558</th>\n",
       "      <td>Private</td>\n",
       "      <td>HS-grad</td>\n",
       "      <td>Married-civ-spouse</td>\n",
       "      <td>Machine-op-inspct</td>\n",
       "      <td>Husband</td>\n",
       "      <td>White</td>\n",
       "      <td>Male</td>\n",
       "      <td>1</td>\n",
       "    </tr>\n",
       "    <tr>\n",
       "      <th>32559</th>\n",
       "      <td>Private</td>\n",
       "      <td>HS-grad</td>\n",
       "      <td>Widowed</td>\n",
       "      <td>Adm-clerical</td>\n",
       "      <td>Unmarried</td>\n",
       "      <td>White</td>\n",
       "      <td>Female</td>\n",
       "      <td>0</td>\n",
       "    </tr>\n",
       "    <tr>\n",
       "      <th>32560</th>\n",
       "      <td>Private</td>\n",
       "      <td>HS-grad</td>\n",
       "      <td>Never-married</td>\n",
       "      <td>Adm-clerical</td>\n",
       "      <td>Own-child</td>\n",
       "      <td>White</td>\n",
       "      <td>Male</td>\n",
       "      <td>0</td>\n",
       "    </tr>\n",
       "  </tbody>\n",
       "</table>\n",
       "<p>30162 rows × 8 columns</p>\n",
       "</div>"
      ],
      "text/plain": [
       "      workclass     education             marital         occupation  \\\n",
       "1       Private       HS-grad             Widowed    Exec-managerial   \n",
       "3       Private       7th-8th            Divorced  Machine-op-inspct   \n",
       "4       Private  Some-college           Separated     Prof-specialty   \n",
       "5       Private       HS-grad            Divorced      Other-service   \n",
       "6       Private          10th           Separated       Adm-clerical   \n",
       "...         ...           ...                 ...                ...   \n",
       "32556   Private  Some-college       Never-married    Protective-serv   \n",
       "32557   Private    Assoc-acdm  Married-civ-spouse       Tech-support   \n",
       "32558   Private       HS-grad  Married-civ-spouse  Machine-op-inspct   \n",
       "32559   Private       HS-grad             Widowed       Adm-clerical   \n",
       "32560   Private       HS-grad       Never-married       Adm-clerical   \n",
       "\n",
       "        relationship   race  gender  income  \n",
       "1      Not-in-family  White  Female       0  \n",
       "3          Unmarried  White  Female       0  \n",
       "4          Own-child  White  Female       0  \n",
       "5          Unmarried  White  Female       0  \n",
       "6          Unmarried  White    Male       0  \n",
       "...              ...    ...     ...     ...  \n",
       "32556  Not-in-family  White    Male       0  \n",
       "32557           Wife  White  Female       0  \n",
       "32558        Husband  White    Male       1  \n",
       "32559      Unmarried  White  Female       0  \n",
       "32560      Own-child  White    Male       0  \n",
       "\n",
       "[30162 rows x 8 columns]"
      ]
     },
     "execution_count": 69,
     "metadata": {},
     "output_type": "execute_result"
    }
   ],
   "source": [
    "df['income'] = df['income'].map({'<=50K': 0, '>50K': 1}).astype(int)\n",
    "df"
   ]
  },
  {
   "cell_type": "markdown",
   "metadata": {},
   "source": [
    "I have identified the features which i have to train.. now i will assign numeric values to them using lable encoding.\n"
   ]
  },
  {
   "cell_type": "code",
   "execution_count": 70,
   "metadata": {},
   "outputs": [],
   "source": [
    "df['gender'] = df['gender'].map({'Male': 0, 'Female': 1}).astype(int)"
   ]
  },
  {
   "cell_type": "code",
   "execution_count": 71,
   "metadata": {},
   "outputs": [],
   "source": [
    "df['race'] = df['race'].map({'Black': 0, 'Asian-Pac-Islander': 1,'Other': 2, 'White': 3,\n",
    "                             'Amer-Indian-Eskimo': 4}).astype(int)"
   ]
  },
  {
   "cell_type": "code",
   "execution_count": 72,
   "metadata": {},
   "outputs": [],
   "source": [
    "df['marital'] = df['marital'].map({'Married-spouse-absent': 0, 'Widowed': 1, 'Married-civ-spouse': 2,\n",
    "                                   'Separated': 3, 'Divorced': 4,'Never-married': 5, 'Married-AF-spouse': 6}).astype(int)"
   ]
  },
  {
   "cell_type": "code",
   "execution_count": 73,
   "metadata": {},
   "outputs": [],
   "source": [
    "df['workclass'] = df['workclass'].map({'Self-emp-inc': 0, 'State-gov': 1,'Federal-gov': 2, 'Without-pay': 3,\n",
    "                                       'Local-gov': 4,'Private': 5, 'Self-emp-not-inc': 6}).astype(int)"
   ]
  },
  {
   "cell_type": "code",
   "execution_count": 74,
   "metadata": {},
   "outputs": [],
   "source": [
    "df['education'] = df['education'].map({'Some-college': 0, 'Preschool': 1, '5th-6th': 2, 'HS-grad': 3, 'Masters': 4,\n",
    "   '12th': 5, '7th-8th': 6, 'Prof-school': 7,'1st-4th': 8, 'Assoc-acdm': 9, 'Doctorate': 10, \n",
    "                '11th': 11,'Bachelors': 12, '10th': 13,'Assoc-voc': 14,'9th': 15}).astype(int)"
   ]
  },
  {
   "cell_type": "code",
   "execution_count": 75,
   "metadata": {},
   "outputs": [],
   "source": [
    "df['relationship'] = df['relationship'].map({'Not-in-family': 0, 'Wife': 1, 'Other-relative': 2, 'Unmarried': 3,\n",
    "                                             'Husband': 4,'Own-child': 5}).astype(int)"
   ]
  },
  {
   "cell_type": "code",
   "execution_count": 76,
   "metadata": {},
   "outputs": [],
   "source": [
    "df['occupation'] = df['occupation'].map({ 'Farming-fishing': 1, 'Tech-support': 2,\n",
    "                                         'Adm-clerical': 3, 'Handlers-cleaners': 4, \n",
    " 'Prof-specialty': 5,'Machine-op-inspct': 6, 'Exec-managerial': 7,'Priv-house-serv': 8,\n",
    "            'Craft-repair': 9,'Sales': 10, 'Transport-moving': 11, 'Armed-Forces': 12,\n",
    "              'Other-service': 13,'Protective-serv':14}).astype(int)"
   ]
  },
  {
   "cell_type": "code",
   "execution_count": 77,
   "metadata": {},
   "outputs": [
    {
     "data": {
      "text/html": [
       "<div>\n",
       "<style scoped>\n",
       "    .dataframe tbody tr th:only-of-type {\n",
       "        vertical-align: middle;\n",
       "    }\n",
       "\n",
       "    .dataframe tbody tr th {\n",
       "        vertical-align: top;\n",
       "    }\n",
       "\n",
       "    .dataframe thead th {\n",
       "        text-align: right;\n",
       "    }\n",
       "</style>\n",
       "<table border=\"1\" class=\"dataframe\">\n",
       "  <thead>\n",
       "    <tr style=\"text-align: right;\">\n",
       "      <th></th>\n",
       "      <th>workclass</th>\n",
       "      <th>education</th>\n",
       "      <th>marital</th>\n",
       "      <th>occupation</th>\n",
       "      <th>relationship</th>\n",
       "      <th>race</th>\n",
       "      <th>gender</th>\n",
       "      <th>income</th>\n",
       "    </tr>\n",
       "  </thead>\n",
       "  <tbody>\n",
       "    <tr>\n",
       "      <th>1</th>\n",
       "      <td>5</td>\n",
       "      <td>3</td>\n",
       "      <td>1</td>\n",
       "      <td>7</td>\n",
       "      <td>0</td>\n",
       "      <td>3</td>\n",
       "      <td>1</td>\n",
       "      <td>0</td>\n",
       "    </tr>\n",
       "    <tr>\n",
       "      <th>3</th>\n",
       "      <td>5</td>\n",
       "      <td>6</td>\n",
       "      <td>4</td>\n",
       "      <td>6</td>\n",
       "      <td>3</td>\n",
       "      <td>3</td>\n",
       "      <td>1</td>\n",
       "      <td>0</td>\n",
       "    </tr>\n",
       "    <tr>\n",
       "      <th>4</th>\n",
       "      <td>5</td>\n",
       "      <td>0</td>\n",
       "      <td>3</td>\n",
       "      <td>5</td>\n",
       "      <td>5</td>\n",
       "      <td>3</td>\n",
       "      <td>1</td>\n",
       "      <td>0</td>\n",
       "    </tr>\n",
       "    <tr>\n",
       "      <th>5</th>\n",
       "      <td>5</td>\n",
       "      <td>3</td>\n",
       "      <td>4</td>\n",
       "      <td>13</td>\n",
       "      <td>3</td>\n",
       "      <td>3</td>\n",
       "      <td>1</td>\n",
       "      <td>0</td>\n",
       "    </tr>\n",
       "    <tr>\n",
       "      <th>6</th>\n",
       "      <td>5</td>\n",
       "      <td>13</td>\n",
       "      <td>3</td>\n",
       "      <td>3</td>\n",
       "      <td>3</td>\n",
       "      <td>3</td>\n",
       "      <td>0</td>\n",
       "      <td>0</td>\n",
       "    </tr>\n",
       "  </tbody>\n",
       "</table>\n",
       "</div>"
      ],
      "text/plain": [
       "   workclass  education  marital  occupation  relationship  race  gender  \\\n",
       "1          5          3        1           7             0     3       1   \n",
       "3          5          6        4           6             3     3       1   \n",
       "4          5          0        3           5             5     3       1   \n",
       "5          5          3        4          13             3     3       1   \n",
       "6          5         13        3           3             3     3       0   \n",
       "\n",
       "   income  \n",
       "1       0  \n",
       "3       0  \n",
       "4       0  \n",
       "5       0  \n",
       "6       0  "
      ]
     },
     "execution_count": 77,
     "metadata": {},
     "output_type": "execute_result"
    }
   ],
   "source": [
    "df.head()"
   ]
  },
  {
   "cell_type": "markdown",
   "metadata": {},
   "source": [
    "# Data Visualization."
   ]
  },
  {
   "cell_type": "markdown",
   "metadata": {},
   "source": [
    "Now I will plot bar digram for each column WRT target column which is income. also will analyse the relation among them."
   ]
  },
  {
   "cell_type": "code",
   "execution_count": 78,
   "metadata": {},
   "outputs": [
    {
     "data": {
      "text/plain": [
       "<matplotlib.axes._subplots.AxesSubplot at 0x1a30b7fe088>"
      ]
     },
     "execution_count": 78,
     "metadata": {},
     "output_type": "execute_result"
    },
    {
     "data": {
      "image/png": "[encoded data removed]",
      "text/plain": [
       "<Figure size 432x288 with 1 Axes>"
      ]
     },
     "metadata": {
      "needs_background": "light"
     },
     "output_type": "display_data"
    }
   ],
   "source": [
    "df.groupby('education').income.mean().plot(kind='bar')\n"
   ]
  },
  {
   "cell_type": "code",
   "execution_count": 79,
   "metadata": {},
   "outputs": [
    {
     "data": {
      "text/plain": [
       "<matplotlib.axes._subplots.AxesSubplot at 0x1a30b849d48>"
      ]
     },
     "execution_count": 79,
     "metadata": {},
     "output_type": "execute_result"
    },
    {
     "data": {
      "image/png": "[encoded data removed]",
      "text/plain": [
       "<Figure size 432x288 with 1 Axes>"
      ]
     },
     "metadata": {
      "needs_background": "light"
     },
     "output_type": "display_data"
    }
   ],
   "source": [
    "df.groupby('gender').income.mean().plot(kind='bar')\n"
   ]
  },
  {
   "cell_type": "code",
   "execution_count": 80,
   "metadata": {},
   "outputs": [
    {
     "data": {
      "text/plain": [
       "<matplotlib.axes._subplots.AxesSubplot at 0x1a30b92fc48>"
      ]
     },
     "execution_count": 80,
     "metadata": {},
     "output_type": "execute_result"
    },
    {
     "data": {
      "image/png": "[encoded data removed]",
      "text/plain": [
       "<Figure size 432x288 with 1 Axes>"
      ]
     },
     "metadata": {
      "needs_background": "light"
     },
     "output_type": "display_data"
    }
   ],
   "source": [
    "df.groupby('race').income.mean().plot(kind='bar')\n"
   ]
  },
  {
   "cell_type": "code",
   "execution_count": 81,
   "metadata": {},
   "outputs": [
    {
     "data": {
      "text/plain": [
       "<matplotlib.axes._subplots.AxesSubplot at 0x1a30ced1f08>"
      ]
     },
     "execution_count": 81,
     "metadata": {},
     "output_type": "execute_result"
    },
    {
     "data": {
      "image/png": "[encoded data removed]",
      "text/plain": [
       "<Figure size 432x288 with 1 Axes>"
      ]
     },
     "metadata": {
      "needs_background": "light"
     },
     "output_type": "display_data"
    }
   ],
   "source": [
    "df.groupby('marital').income.mean().plot(kind='bar')\n"
   ]
  },
  {
   "cell_type": "code",
   "execution_count": 82,
   "metadata": {},
   "outputs": [
    {
     "data": {
      "text/plain": [
       "<matplotlib.axes._subplots.AxesSubplot at 0x1a30cf3a608>"
      ]
     },
     "execution_count": 82,
     "metadata": {},
     "output_type": "execute_result"
    },
    {
     "data": {
      "image/png": "[encoded data removed]",
      "text/plain": [
       "<Figure size 432x288 with 1 Axes>"
      ]
     },
     "metadata": {
      "needs_background": "light"
     },
     "output_type": "display_data"
    }
   ],
   "source": [
    "df.groupby('workclass').income.mean().plot(kind='bar')"
   ]
  },
  {
   "cell_type": "code",
   "execution_count": 83,
   "metadata": {},
   "outputs": [
    {
     "data": {
      "text/plain": [
       "<matplotlib.axes._subplots.AxesSubplot at 0x1a30cfa6648>"
      ]
     },
     "execution_count": 83,
     "metadata": {},
     "output_type": "execute_result"
    },
    {
     "data": {
      "image/png": "[encoded data removed]",
      "text/plain": [
       "<Figure size 432x288 with 1 Axes>"
      ]
     },
     "metadata": {
      "needs_background": "light"
     },
     "output_type": "display_data"
    }
   ],
   "source": [
    "df.groupby('relationship').income.mean().plot(kind='bar')\n"
   ]
  },
  {
   "cell_type": "code",
   "execution_count": 84,
   "metadata": {},
   "outputs": [
    {
     "data": {
      "text/plain": [
       "<matplotlib.axes._subplots.AxesSubplot at 0x1a30d013108>"
      ]
     },
     "execution_count": 84,
     "metadata": {},
     "output_type": "execute_result"
    },
    {
     "data": {
      "image/png": "[encoded data removed]",
      "text/plain": [
       "<Figure size 432x288 with 1 Axes>"
      ]
     },
     "metadata": {
      "needs_background": "light"
     },
     "output_type": "display_data"
    }
   ],
   "source": [
    "df.groupby('occupation').income.mean().plot(kind='bar')\n"
   ]
  },
  {
   "cell_type": "markdown",
   "metadata": {},
   "source": [
    "# Feature Identification"
   ]
  },
  {
   "cell_type": "code",
   "execution_count": 85,
   "metadata": {},
   "outputs": [],
   "source": [
    "df_x = pd.DataFrame(np.c_[df['relationship'], df['education'], df['race'],df['occupation'],\n",
    "    df['gender'],df['marital'],df['workclass']], columns = ['relationship','education',\n",
    "                                                            'race','occupation','gender','marital','workclass'])\n"
   ]
  },
  {
   "cell_type": "code",
   "execution_count": 86,
   "metadata": {},
   "outputs": [],
   "source": [
    "df_y = pd.DataFrame(df.income)\n"
   ]
  },
  {
   "cell_type": "markdown",
   "metadata": {},
   "source": [
    "# Splitting Data\n"
   ]
  },
  {
   "cell_type": "code",
   "execution_count": 87,
   "metadata": {},
   "outputs": [],
   "source": [
    "x_train, x_test, y_train, y_test = train_test_split(df_x, df_y, test_size=0.33)\n",
    "y_train = y_train.values.flatten()\n"
   ]
  },
  {
   "cell_type": "markdown",
   "metadata": {},
   "source": [
    "# Model Selection"
   ]
  },
  {
   "cell_type": "markdown",
   "metadata": {},
   "source": [
    "As  i need to use 3 diffrent models so, i will do the same one by one first i will select perfect parameter for the model by performing hyperparameter tunig(greed seacrh) then i will get the accuracy."
   ]
  },
  {
   "cell_type": "markdown",
   "metadata": {},
   "source": [
    "# 1. RandomForest"
   ]
  },
  {
   "cell_type": "code",
   "execution_count": 88,
   "metadata": {},
   "outputs": [],
   "source": [
    "para_forest={\n",
    " 'n_estimators':[60,80,100],\n",
    " 'criterion': [\"gini\", \"entropy\"],\n",
    " 'max_depth': [None,5 , 10],\n",
    " 'max_features': ['auto',10,20,30]    \n",
    "}"
   ]
  },
  {
   "cell_type": "code",
   "execution_count": 89,
   "metadata": {},
   "outputs": [],
   "source": [
    "grid_rf=GridSearchCV(estimator=RandomForestClassifier(),param_grid=para_forest,cv=3,n_jobs=-1).fit(x_train,y_train)\n"
   ]
  },
  {
   "cell_type": "code",
   "execution_count": 90,
   "metadata": {},
   "outputs": [
    {
     "data": {
      "text/plain": [
       "{'criterion': 'gini',\n",
       " 'max_depth': 10,\n",
       " 'max_features': 'auto',\n",
       " 'n_estimators': 60}"
      ]
     },
     "execution_count": 90,
     "metadata": {},
     "output_type": "execute_result"
    }
   ],
   "source": [
    "grid_rf.best_params_\n"
   ]
  },
  {
   "cell_type": "markdown",
   "metadata": {},
   "source": [
    "Here i got best parameters for my model now, i will perform training and prediction."
   ]
  },
  {
   "cell_type": "code",
   "execution_count": 91,
   "metadata": {},
   "outputs": [],
   "source": [
    "rf=RandomForestClassifier(criterion = 'gini',\n",
    " max_depth = 10,\n",
    " max_features = 'auto',\n",
    " n_estimators = 80)\n"
   ]
  },
  {
   "cell_type": "code",
   "execution_count": 92,
   "metadata": {},
   "outputs": [
    {
     "data": {
      "text/plain": [
       "RandomForestClassifier(max_depth=10, n_estimators=80)"
      ]
     },
     "execution_count": 92,
     "metadata": {},
     "output_type": "execute_result"
    }
   ],
   "source": [
    "rf.fit(x_train,y_train)\n"
   ]
  },
  {
   "cell_type": "code",
   "execution_count": 93,
   "metadata": {},
   "outputs": [
    {
     "data": {
      "text/plain": [
       "array([1, 0, 0, ..., 0, 0, 0])"
      ]
     },
     "execution_count": 93,
     "metadata": {},
     "output_type": "execute_result"
    }
   ],
   "source": [
    "rf_pred=rf.predict(x_test)\n",
    "rf_pred"
   ]
  },
  {
   "cell_type": "code",
   "execution_count": 94,
   "metadata": {},
   "outputs": [],
   "source": [
    "def matt(a,b):\n",
    "    print('Confusion Matrix')\n",
    "    print(metrics.confusion_matrix(a,b))\n",
    "    print('---------------')\n",
    "    print(\"Accuracy:\",metrics.accuracy_score(a,b))\n",
    "    print(\"Recall:\",metrics.recall_score(a,b))\n",
    "    print(\"precision:\",metrics.precision_score(a,b))\n",
    "    print(\"F1_Score:\",metrics.f1_score(a,b))"
   ]
  },
  {
   "cell_type": "code",
   "execution_count": 95,
   "metadata": {},
   "outputs": [
    {
     "name": "stdout",
     "output_type": "stream",
     "text": [
      "Confusion Matrix\n",
      "[[6965  500]\n",
      " [1305 1184]]\n",
      "---------------\n",
      "Accuracy: 0.8186658629696605\n",
      "Recall: 0.47569304941743673\n",
      "precision: 0.7030878859857482\n",
      "F1_Score: 0.5674574646537264\n"
     ]
    }
   ],
   "source": [
    "matt(y_test,rf_pred)"
   ]
  },
  {
   "cell_type": "markdown",
   "metadata": {},
   "source": [
    "# 2. Logistic regression"
   ]
  },
  {
   "cell_type": "code",
   "execution_count": 96,
   "metadata": {},
   "outputs": [],
   "source": [
    "para_reg={'penalty' : ['l1', 'l2', 'elasticnet', 'none'],\n",
    "    'C': [0.001,0.01,0.1,1,10,100,1000],\n",
    "          'fit_intercept': [False,True],\n",
    "          'verbose': [0,1,2,3],\n",
    "          'multi_class': ['auto', 'ovr', 'multinomial']\n",
    "}"
   ]
  },
  {
   "cell_type": "code",
   "execution_count": 97,
   "metadata": {},
   "outputs": [],
   "source": [
    "grid_reg=GridSearchCV(estimator=LogisticRegression(),param_grid=para_reg,cv=3,n_jobs=-1).fit(x_train,y_train)\n"
   ]
  },
  {
   "cell_type": "code",
   "execution_count": 98,
   "metadata": {},
   "outputs": [
    {
     "data": {
      "text/plain": [
       "{'C': 0.1,\n",
       " 'fit_intercept': False,\n",
       " 'multi_class': 'auto',\n",
       " 'penalty': 'l2',\n",
       " 'verbose': 0}"
      ]
     },
     "execution_count": 98,
     "metadata": {},
     "output_type": "execute_result"
    }
   ],
   "source": [
    "grid_reg.best_params_"
   ]
  },
  {
   "cell_type": "code",
   "execution_count": 99,
   "metadata": {},
   "outputs": [],
   "source": [
    "reg = LogisticRegression(C = 0.1,\n",
    " fit_intercept = False,\n",
    " multi_class = 'multinomial',\n",
    " penalty = 'l2',\n",
    " verbose = 0)"
   ]
  },
  {
   "cell_type": "code",
   "execution_count": 100,
   "metadata": {},
   "outputs": [
    {
     "data": {
      "text/plain": [
       "LogisticRegression(C=0.1, fit_intercept=False, multi_class='multinomial')"
      ]
     },
     "execution_count": 100,
     "metadata": {},
     "output_type": "execute_result"
    }
   ],
   "source": [
    "reg.fit(x_train,y_train)\n"
   ]
  },
  {
   "cell_type": "code",
   "execution_count": 101,
   "metadata": {},
   "outputs": [],
   "source": [
    "reg_pred=reg.predict(x_test)"
   ]
  },
  {
   "cell_type": "code",
   "execution_count": 102,
   "metadata": {},
   "outputs": [
    {
     "name": "stdout",
     "output_type": "stream",
     "text": [
      "Confusion Matrix\n",
      "[[6975  490]\n",
      " [1907  582]]\n",
      "---------------\n",
      "Accuracy: 0.7591922845087402\n",
      "Recall: 0.23382884692647649\n",
      "precision: 0.542910447761194\n",
      "F1_Score: 0.32687447346251053\n"
     ]
    }
   ],
   "source": [
    "matt(y_test, reg_pred)"
   ]
  },
  {
   "cell_type": "code",
   "execution_count": null,
   "metadata": {},
   "outputs": [],
   "source": []
  },
  {
   "cell_type": "markdown",
   "metadata": {},
   "source": [
    "# 3. KNeighborsClassifier"
   ]
  },
  {
   "cell_type": "code",
   "execution_count": 103,
   "metadata": {},
   "outputs": [],
   "source": [
    "p_3={\n",
    " 'n_neighbors': [1,3,5],  \n",
    " 'weights': ['uniform','distance'],\n",
    "   'leaf_size' : [45,70,90]\n",
    " }"
   ]
  },
  {
   "cell_type": "code",
   "execution_count": 104,
   "metadata": {},
   "outputs": [],
   "source": [
    "grid_knn=GridSearchCV(estimator=KNeighborsClassifier(),param_grid=p_3,cv=3,n_jobs=-1).fit(x_train,y_train)"
   ]
  },
  {
   "cell_type": "code",
   "execution_count": 105,
   "metadata": {},
   "outputs": [
    {
     "data": {
      "text/plain": [
       "{'leaf_size': 45, 'n_neighbors': 5, 'weights': 'distance'}"
      ]
     },
     "execution_count": 105,
     "metadata": {},
     "output_type": "execute_result"
    }
   ],
   "source": [
    "grid_knn.best_params_"
   ]
  },
  {
   "cell_type": "code",
   "execution_count": 106,
   "metadata": {},
   "outputs": [],
   "source": [
    "knn=KNeighborsClassifier(n_neighbors = 5,  \n",
    " weights = 'uniform',\n",
    "   leaf_size = 70 )"
   ]
  },
  {
   "cell_type": "code",
   "execution_count": 107,
   "metadata": {},
   "outputs": [
    {
     "data": {
      "text/plain": [
       "KNeighborsClassifier(leaf_size=70)"
      ]
     },
     "execution_count": 107,
     "metadata": {},
     "output_type": "execute_result"
    }
   ],
   "source": [
    "knn.fit(x_train,y_train)"
   ]
  },
  {
   "cell_type": "code",
   "execution_count": 108,
   "metadata": {},
   "outputs": [],
   "source": [
    "knn_pred=knn.predict(x_test)"
   ]
  },
  {
   "cell_type": "code",
   "execution_count": 109,
   "metadata": {},
   "outputs": [
    {
     "name": "stdout",
     "output_type": "stream",
     "text": [
      "Confusion Matrix\n",
      "[[6538  927]\n",
      " [1060 1429]]\n",
      "---------------\n",
      "Accuracy: 0.8003817560779586\n",
      "Recall: 0.5741261550823624\n",
      "precision: 0.6065365025466893\n",
      "F1_Score: 0.5898864809081528\n"
     ]
    }
   ],
   "source": [
    "matt(y_test, knn_pred)"
   ]
  },
  {
   "cell_type": "code",
   "execution_count": null,
   "metadata": {},
   "outputs": [],
   "source": []
  },
  {
   "cell_type": "markdown",
   "metadata": {},
   "source": [
    "# Conclusion"
   ]
  },
  {
   "cell_type": "markdown",
   "metadata": {},
   "source": [
    "After using the 3 different model we are getting accuracy like LogisticRegression < KNeighbors < Random Forest. Hence, Random forest is best for this datset."
   ]
  },
  {
   "cell_type": "markdown",
   "metadata": {},
   "source": [
    "# Prediction on unknown data"
   ]
  },
  {
   "cell_type": "markdown",
   "metadata": {},
   "source": [
    "Now i will use unknow data set as to train my best model and will try to predict."
   ]
  },
  {
   "cell_type": "code",
   "execution_count": 111,
   "metadata": {},
   "outputs": [],
   "source": [
    "\n",
    "import tkinter as t\n",
    "root=t.Tk()\n",
    "root.geometry(\"500x400\")\n",
    "a_var=t.IntVar()\n",
    "b_var=t.IntVar()\n",
    "c_var=t.IntVar()\n",
    "d_var=t.IntVar()\n",
    "e_var=t.IntVar()\n",
    "f_var=t.IntVar()\n",
    "g_var=t.IntVar()\n",
    "\n",
    " \n",
    "def submit():\n",
    "    global a,b,c,d,e,f,g\n",
    "    a = a_var.get()\n",
    "    b = b_var.get()\n",
    "    c = c_var.get()\n",
    "    d = d_var.get()\n",
    "    e = e_var.get()\n",
    "    f = f_var.get()\n",
    "    g = g_var.get()\n",
    "    \n",
    "    rf_p=rf.predict([[a,b,c,d,e,f,g]])\n",
    "    \n",
    "    if rf_p == 0:\n",
    "        t1 = t.Label(root,text =\"The income will be less than or equal to 50k\",fg='red')\n",
    "        t1.grid(row=20,column=4)\n",
    "    else:\n",
    "        t1 = t.Label(root,text =\"The income will be more then 50K\",fg='red')\n",
    "        t1.grid(row=20,column=4)\n",
    "        \n",
    "def Close(): \n",
    "    root.destroy()\n",
    "    \n",
    "name_label = t.Label(root, text = 'Hola!', font=('calibre',25, 'bold'),fg='red')\n",
    "name_label.grid(row=1,column=4)\n",
    "\n",
    "    \n",
    "name_label1 = t.Label(root, text = 'workclass:', font=('calibre',10, 'bold'),fg = 'blue')\n",
    "name_label1.grid(row=4,column=2)\n",
    "name_entry1 = t.Entry(root,textvariable = a_var, font=('calibre',10,'normal'))\n",
    "name_entry1.grid(row=4,column=3)\n",
    "\n",
    "name_label2 = t.Label(root, text = 'education:', font=('calibre',10, 'bold'),fg = 'blue')\n",
    "name_label2.grid(row=6,column=4)\n",
    "name_entry2 = t.Entry(root,textvariable = b_var, font=('calibre',10,'normal'))\n",
    "name_entry2.grid(row=6,column=5)\n",
    "\n",
    "name_label2 = t.Label(root, text = 'marital:', font=('calibre',10, 'bold'),fg = 'blue')\n",
    "name_label2.grid(row=8,column=2)\n",
    "name_entry2 = t.Entry(root,textvariable = c_var, font=('calibre',10,'normal'))\n",
    "name_entry2.grid(row=8,column=3)\n",
    "\n",
    "name_label2 = t.Label(root, text = 'occupation:', font=('calibre',10, 'bold'),fg = 'blue')\n",
    "name_label2.grid(row=10,column=4)\n",
    "name_entry2 = t.Entry(root,textvariable = d_var, font=('calibre',10,'normal'))\n",
    "name_entry2.grid(row=10,column=5)\n",
    "\n",
    "name_label2 = t.Label(root, text = 'relationship:', font=('calibre',10, 'bold'),fg = 'blue')\n",
    "name_label2.grid(row=12,column=2)\n",
    "name_entry2 = t.Entry(root,textvariable = e_var, font=('calibre',10,'normal'))\n",
    "name_entry2.grid(row=12,column=3)\n",
    "\n",
    "name_label2 = t.Label(root, text = 'race:', font=('calibre',10, 'bold'),fg = 'blue')\n",
    "name_label2.grid(row=14,column=4)\n",
    "name_entry2 = t.Entry(root,textvariable = f_var, font=('calibre',10,'normal'))\n",
    "name_entry2.grid(row=14,column=5)\n",
    "\n",
    "name_label2 = t.Label(root, text = 'gender:', font=('calibre',10, 'bold'),fg = 'blue')\n",
    "name_label2.grid(row=16,column=2)\n",
    "name_entry2 = t.Entry(root,textvariable = g_var, font=('calibre',10,'normal'))\n",
    "name_entry2.grid(row=16,column=3)\n",
    "\n",
    "\n",
    "\n",
    "\n",
    "\n",
    "\n",
    "\n",
    "sub_btn=t.Button(root,text = 'Submit', fg = 'red', command = submit)\n",
    "\n",
    "sub_btn.grid(row=18,column=4)\n",
    "\n",
    "root.mainloop()"
   ]
  },
  {
   "cell_type": "code",
   "execution_count": null,
   "metadata": {},
   "outputs": [],
   "source": []
  },
  {
   "cell_type": "code",
   "execution_count": null,
   "metadata": {},
   "outputs": [],
   "source": []
  }
 ],
 "metadata": {
  "kernelspec": {
   "display_name": "Python 3",
   "language": "python",
   "name": "python3"
  },
  "language_info": {
   "codemirror_mode": {
    "name": "ipython",
    "version": 3
   },
   "file_extension": ".py",
   "mimetype": "text/x-python",
   "name": "python",
   "nbconvert_exporter": "python",
   "pygments_lexer": "ipython3",
   "version": "3.7.6"
  }
 },
 "nbformat": 4,
 "nbformat_minor": 4
}
